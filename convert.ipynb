{
  "nbformat": 4,
  "nbformat_minor": 0,
  "metadata": {
    "colab": {
      "provenance": [],
      "collapsed_sections": [],
      "authorship_tag": "ABX9TyOvFeZYYOXm3qlP8zbBaWnu"
    },
    "kernelspec": {
      "name": "python3",
      "display_name": "Python 3"
    },
    "language_info": {
      "name": "python"
    }
  },
  "cells": [
    {
      "cell_type": "markdown",
      "source": [
        "# Convert Weights to PyTorch Format\n",
        "\n",
        "Given a dictionary of weights expresses as couples (key --> value) of type (`str` -> `np.ndarray`), this notebook converts them into couples (`str` --> `torch.Tensor`) suitable for training."
      ],
      "metadata": {
        "id": "88ewEcJRCuU0"
      }
    },
    {
      "cell_type": "code",
      "execution_count": 5,
      "metadata": {
        "cellView": "form",
        "id": "qH5iEn3ACg8G"
      },
      "outputs": [],
      "source": [
        "#@title Install Dependencies\n",
        "#@markdown Run this cell to install all needed depedencies.\n",
        "!pip -q install torch"
      ]
    },
    {
      "cell_type": "code",
      "source": [
        "#@title Import Modules\n",
        "#@markdown Import the *torch* module needed to convert arrays to `torch.Tensor`.\n",
        "%load_ext autoreload\n",
        "%autoreload 2\n",
        "\n",
        "import joblib\n",
        "import torch\n",
        "from google.colab import files"
      ],
      "metadata": {
        "cellView": "form",
        "id": "CdTOQzfrDVK6"
      },
      "execution_count": null,
      "outputs": []
    },
    {
      "cell_type": "code",
      "source": [
        "#@title Convert to the Original Format\n",
        "#@markdown Convert all couples in the dictionary to the original PyTorch format\n",
        "#@markdown using `torch.Tensor` types (covert to standard single-precision \n",
        "#@markdown `float32` types).\n",
        "weights_output = \"weights_torch.joblib\" #@param {type: \"string\"}\n",
        "\n",
        "# upload the file\n",
        "upload = files.upload()\n",
        "\n",
        "# convert to torch.Tensor\n",
        "tensors_dict = joblib.load(list(upload.keys())[0])\n",
        "for key, value in tensors_dict.items():\n",
        "  tensors_dict[key] = torch.tensor(value, dtype=torch.float)\n",
        "\n",
        "# save the weights\n",
        "path = joblib.dump(tensors_dict, weights_output)\n",
        "print(f'Weights saved to {path[0]}. Beginning download...')\n",
        "files.download(path[0])"
      ],
      "metadata": {
        "cellView": "form",
        "id": "9SLNft2qDrww"
      },
      "execution_count": null,
      "outputs": []
    }
  ]
}