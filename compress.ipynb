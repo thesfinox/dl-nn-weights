{
  "nbformat": 4,
  "nbformat_minor": 0,
  "metadata": {
    "colab": {
      "provenance": [],
      "collapsed_sections": [],
      "authorship_tag": "ABX9TyPxkYBnzMMkH1XwghHhQcSM"
    },
    "kernelspec": {
      "name": "python3",
      "display_name": "Python 3"
    },
    "language_info": {
      "name": "python"
    }
  },
  "cells": [
    {
      "cell_type": "markdown",
      "source": [
        "# Compression of Weights\n",
        "\n",
        "In this notebook we use the `tensorly` library to compress the weights of neural networks. We focus on *PARAFAC* and *TUCKER* decomposition to start with. The notebook takes a set of weights in NumPy format as input (a dictionary of keys name --> tensor) and outputs a dictionary in the same format."
      ],
      "metadata": {
        "id": "_28hugkTgerX"
      }
    },
    {
      "cell_type": "code",
      "execution_count": 1,
      "metadata": {
        "cellView": "form",
        "id": "DZuJvnC1f3L1"
      },
      "outputs": [],
      "source": [
        "#@title Install Dependencies\n",
        "#@markdown Run this cell to install all needed depedencies.\n",
        "!pip -q install tensorly"
      ]
    },
    {
      "cell_type": "code",
      "source": [
        "#@title Import Modules\n",
        "#@markdown We need to import the decomposition (and reconstruction) modules to\n",
        "#@markdown reduce the rank of the tensors.\n",
        "import joblib\n",
        "from tensorly.decomposition import parafac, tucker\n",
        "from tensorly.cp_tensor import cp_to_tensor\n",
        "from tensorly.tucker_tensor import tucker_to_tensor\n",
        "from google.colab import files\n",
        "\n",
        "methods = {'parafac': (parafac, cp_to_tensor),\n",
        "           'tucker': (tucker, tucker_to_tensor)\n",
        "           }\n",
        "method = \"parafac\" #@param ['parafac', 'tucker'] {type: \"string\"}\n",
        "rank = 2 #@param {type: \"integer\"}\n",
        "decomp, recons = methods[method]"
      ],
      "metadata": {
        "cellView": "form",
        "id": "NDneuOHGgvv0"
      },
      "execution_count": 2,
      "outputs": []
    },
    {
      "cell_type": "code",
      "source": [
        "#@title Upload the Weights\n",
        "#@markdown We first upload the data in dictionary (name -> tensor) format.\n",
        "upload = files.upload()\n",
        "tensors_dict = joblib.load(list(upload.keys())[0])"
      ],
      "metadata": {
        "cellView": "form",
        "id": "n1L4ILqWSrPp"
      },
      "execution_count": 4,
      "outputs": []
    },
    {
      "cell_type": "code",
      "source": [
        "#@title Compute the Decomposition\n",
        "#@markdown Compute the decomposition and reconstruction of the weights of the\n",
        "#@markdown network. We choose a **limit** in the number of the tensors to\n",
        "#@markdown process as it is a **memory-consuming** operation: the manual limit\n",
        "#@markdown allows for the computation to finish **without crashing the \n",
        "#@markdown notebook**.\n",
        "limit = 3 #@param {type: \"integer\"}\n",
        "scanned_tensors = 0\n",
        "for name, tensor in tensors_dict.items():\n",
        "\n",
        "  if scanned_tensors > limit: break\n",
        "\n",
        "  if tensor.ndim > 2 and \"weight\" in name:\n",
        "\n",
        "    print(f'Scanning {name}...')\n",
        "\n",
        "    # decomposition\n",
        "    tensor_decomp = decomp(tensor, rank)\n",
        "\n",
        "    # recompose the tensor\n",
        "    tensor_recons = recons(tensor_decomp)\n",
        "\n",
        "    # substitute the tensor\n",
        "    tensors_dict[name] = tensor\n",
        "\n",
        "    # counter\n",
        "    scanned_tensors += 1\n",
        "\n",
        "  else:\n",
        "\n",
        "    print(f'> Skipping {name}...')"
      ],
      "metadata": {
        "colab": {
          "base_uri": "https://localhost:8080/"
        },
        "cellView": "form",
        "id": "zG_B7Al3ZQmk",
        "outputId": "4c388a86-4fcf-4e3e-b059-b81d94fd419e"
      },
      "execution_count": 7,
      "outputs": [
        {
          "output_type": "stream",
          "name": "stdout",
          "text": [
            "Scanning conv1.conv.weight...\n",
            "Skipping conv1.bn.weight...\n",
            "Skipping conv1.bn.bias...\n",
            "Skipping conv1.bn.running_mean...\n",
            "Skipping conv1.bn.running_var...\n",
            "Skipping conv1.bn.num_batches_tracked...\n",
            "Scanning conv2.conv.weight...\n",
            "Skipping conv2.bn.weight...\n",
            "Skipping conv2.bn.bias...\n",
            "Skipping conv2.bn.running_mean...\n",
            "Skipping conv2.bn.running_var...\n",
            "Skipping conv2.bn.num_batches_tracked...\n",
            "Scanning conv3.conv.weight...\n",
            "Skipping conv3.bn.weight...\n",
            "Skipping conv3.bn.bias...\n",
            "Skipping conv3.bn.running_mean...\n",
            "Skipping conv3.bn.running_var...\n",
            "Skipping conv3.bn.num_batches_tracked...\n",
            "Scanning inception3a.branch1.conv.weight...\n"
          ]
        }
      ]
    },
    {
      "cell_type": "code",
      "source": [
        "#@title Download the Tensors\n",
        "#@markdown After the computation of the decomposition, we recover the reduced\n",
        "#@markdown tensors.\n",
        "weights_output = \"weights_modified.joblib\" #@param {type: \"string\"}\n",
        "path = joblib.dump(tensors_dict, weights_output)\n",
        "print(f'Weights saved to {path[0]}. Beginning download...')\n",
        "files.download(path[0])"
      ],
      "metadata": {
        "colab": {
          "base_uri": "https://localhost:8080/",
          "height": 34
        },
        "cellView": "form",
        "id": "1h17LRcablgo",
        "outputId": "147fa3eb-9dc5-46db-ef0a-925ce969bdac"
      },
      "execution_count": 8,
      "outputs": [
        {
          "output_type": "stream",
          "name": "stdout",
          "text": [
            "Weights saved to weights_modified.joblib. Beginning download...\n"
          ]
        },
        {
          "output_type": "display_data",
          "data": {
            "text/plain": [
              "<IPython.core.display.Javascript object>"
            ],
            "application/javascript": [
              "\n",
              "    async function download(id, filename, size) {\n",
              "      if (!google.colab.kernel.accessAllowed) {\n",
              "        return;\n",
              "      }\n",
              "      const div = document.createElement('div');\n",
              "      const label = document.createElement('label');\n",
              "      label.textContent = `Downloading \"${filename}\": `;\n",
              "      div.appendChild(label);\n",
              "      const progress = document.createElement('progress');\n",
              "      progress.max = size;\n",
              "      div.appendChild(progress);\n",
              "      document.body.appendChild(div);\n",
              "\n",
              "      const buffers = [];\n",
              "      let downloaded = 0;\n",
              "\n",
              "      const channel = await google.colab.kernel.comms.open(id);\n",
              "      // Send a message to notify the kernel that we're ready.\n",
              "      channel.send({})\n",
              "\n",
              "      for await (const message of channel.messages) {\n",
              "        // Send a message to notify the kernel that we're ready.\n",
              "        channel.send({})\n",
              "        if (message.buffers) {\n",
              "          for (const buffer of message.buffers) {\n",
              "            buffers.push(buffer);\n",
              "            downloaded += buffer.byteLength;\n",
              "            progress.value = downloaded;\n",
              "          }\n",
              "        }\n",
              "      }\n",
              "      const blob = new Blob(buffers, {type: 'application/binary'});\n",
              "      const a = document.createElement('a');\n",
              "      a.href = window.URL.createObjectURL(blob);\n",
              "      a.download = filename;\n",
              "      div.appendChild(a);\n",
              "      a.click();\n",
              "      div.remove();\n",
              "    }\n",
              "  "
            ]
          },
          "metadata": {}
        },
        {
          "output_type": "display_data",
          "data": {
            "text/plain": [
              "<IPython.core.display.Javascript object>"
            ],
            "application/javascript": [
              "download(\"download_295f7959-f17f-4b13-b806-ed8d6ae796d0\", \"weights_modified.joblib\", 104201537)"
            ]
          },
          "metadata": {}
        }
      ]
    }
  ]
}